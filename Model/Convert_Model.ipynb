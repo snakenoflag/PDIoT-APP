{
 "cells": [
  {
   "cell_type": "code",
   "execution_count": 5,
   "metadata": {},
   "outputs": [],
   "source": [
    "import os\n",
    "from os import listdir\n",
    "from os.path import isfile, join\n",
    "from pathlib import Path\n",
    "import re\n",
    "\n",
    "import tensorflow as tf\n",
    "from tensorflow.keras.models import Sequential\n",
    "from tensorflow.keras.layers import LSTM, Dense, Dropout, Bidirectional\n",
    "from tensorflow.keras.callbacks import ModelCheckpoint, TensorBoard\n",
    "from sklearn import preprocessing\n",
    "from sklearn.model_selection import train_test_split\n",
    "from sklearn.metrics import accuracy_score\n",
    "from sklearn.metrics import confusion_matrix\n",
    "from sklearn.utils import shuffle\n",
    "\n",
    "\n",
    "import math\n",
    "import numpy as np\n",
    "import pandas as pd\n",
    "import matplotlib.pyplot as plt\n",
    "import time\n",
    "import random\n",
    "%matplotlib inline\n",
    "SEED = 1105\n"
   ]
  },
  {
   "cell_type": "code",
   "execution_count": 9,
   "metadata": {},
   "outputs": [
    {
     "name": "stdout",
     "output_type": "stream",
     "text": [
      "2.2.0\n"
     ]
    }
   ],
   "source": [
    "print(tf.version.VERSION)"
   ]
  },
  {
   "cell_type": "code",
   "execution_count": 10,
   "metadata": {},
   "outputs": [],
   "source": [
    "HYPER_PARAMETERS = {}\n",
    "# Position\n",
    "POSITION = 'Front pocket (trouser)_Left'\n",
    "POSITION = 'Wrist_Right'\n",
    "HYPER_PARAMETERS[\"pos\"] = POSITION\n",
    "# Window size or the sequence length\n",
    "N_STEPS = 30\n",
    "HYPER_PARAMETERS[\"n_steps\"] = N_STEPS\n",
    "# test ratio size, 0.2 is 20%\n",
    "TEST_SIZE = 0.2\n",
    "HYPER_PARAMETERS[\"test_size\"] = TEST_SIZE\n",
    "# date now\n",
    "date_now = time.strftime(\"%Y-%m-%d\")\n",
    "HYPER_PARAMETERS[\"date\"] = date_now\n",
    "\n",
    "\n",
    "\n",
    "### model parameters\n",
    "N_LAYERS = 2\n",
    "HYPER_PARAMETERS[\"n_layers\"] = N_LAYERS\n",
    "# LSTM cell\n",
    "CELL = LSTM\n",
    "HYPER_PARAMETERS[\"cell\"] = CELL\n",
    "# 256 LSTM neurons\n",
    "UNITS = 64\n",
    "HYPER_PARAMETERS[\"units\"] = UNITS\n",
    "# 40% dropout\n",
    "DROPOUT = 0.4\n",
    "HYPER_PARAMETERS[\"dropout\"] = DROPOUT\n",
    "# whether to use bidirectional RNNs\n",
    "BIDIRECTIONAL = False\n",
    "HYPER_PARAMETERS[\"bidirectional\"] = BIDIRECTIONAL\n",
    "\n",
    "\n",
    "### training parameters\n",
    "# mean absolute error loss\n",
    "# LOSS = \"mae\"\n",
    "# huber loss\n",
    "LOSS = \"huber_loss\"\n",
    "LOSS = \"binary_crossentropy\"\n",
    "HYPER_PARAMETERS[\"loss\"] = LOSS\n",
    "OPTIMIZER = \"adam\"\n",
    "HYPER_PARAMETERS[\"optimizer\"] = OPTIMIZER\n",
    "BATCH_SIZE = 1024\n",
    "HYPER_PARAMETERS[\"batch_size\"] = BATCH_SIZE\n",
    "EPOCHS = 100\n",
    "HYPER_PARAMETERS[\"epochs\"] = EPOCHS\n",
    "\n",
    "POSSIBLE_ACTIVITIES = ['Climbing stairs',\n",
    "                       'Descending stairs',\n",
    "                       'Desk work',\n",
    "                       'Lying down left', \n",
    "                       'Lying down right',\n",
    "                       'Lying down on back', \n",
    "                       'Lying down on stomach', \n",
    "                       'Running', \n",
    "                       'Sitting bent backward', \n",
    "                       'Sitting bent forward', \n",
    "                       'Sitting', \n",
    "                       'Standing', \n",
    "                       'Walking at normal speed',\n",
    "                       'Movement']    "
   ]
  },
  {
   "cell_type": "code",
   "execution_count": 11,
   "metadata": {},
   "outputs": [],
   "source": [
    "def create_model(sequence_length, output_size, units=256, cell=LSTM, n_layers=2, dropout=0.3,\n",
    "                loss=\"mean_absolute_error\", optimizer=\"rmsprop\", bidirectional=False):\n",
    "    model = Sequential()\n",
    "    model.add(Dense(sequence_length))\n",
    "    model.add(Dense(sequence_length))\n",
    "    for i in range(n_layers):\n",
    "        if i == 0:\n",
    "            # first layer\n",
    "            if bidirectional:\n",
    "                model.add(Bidirectional(cell(units, return_sequences=True), input_shape=(sequence_length, 3)))\n",
    "            else:\n",
    "                model.add(cell(units, return_sequences=True, input_shape=(sequence_length, 3)))\n",
    "        elif i == n_layers - 1:\n",
    "            # last layer\n",
    "            if bidirectional:\n",
    "                model.add(Bidirectional(cell(units, return_sequences=False)))\n",
    "            else:\n",
    "                model.add(cell(units, return_sequences=False))\n",
    "        else:\n",
    "            # hidden layers\n",
    "            if bidirectional:\n",
    "                model.add(Bidirectional(cell(units, return_sequences=True)))\n",
    "            else:\n",
    "                model.add(cell(units, return_sequences=True))\n",
    "        # add dropout after each layer\n",
    "        model.add(Dropout(dropout))\n",
    "    model.add(Dense(output_size))\n",
    "    model.add(Dense(output_size))\n",
    "    model.add(Dense(output_size, activation=\"sigmoid\"))\n",
    "    model.compile(loss=loss, \n",
    "                  metrics=[\"mean_absolute_error\", tf.keras.metrics.CategoricalAccuracy()], \n",
    "                  optimizer=optimizer,)\n",
    "    return model\n",
    "def create_models(sequence_length, possible_activities, units=256, cell=LSTM, n_layers=2, dropout=0.3,\n",
    "                loss=\"mean_absolute_error\", optimizer=\"rmsprop\", bidirectional=False):\n",
    "    \n",
    "    models = {}\n",
    "    for activity in possible_activities:\n",
    "        models[activity] = create_model(sequence_length = sequence_length,\n",
    "                                        output_size = 2, \n",
    "                                        loss = loss, \n",
    "                                        units = units, \n",
    "                                        cell = cell, \n",
    "                                        n_layers = n_layers,\n",
    "                                        dropout = dropout, \n",
    "                                        optimizer = optimizer, \n",
    "                                        bidirectional = bidirectional)\n",
    "    return models"
   ]
  },
  {
   "cell_type": "code",
   "execution_count": 25,
   "metadata": {},
   "outputs": [],
   "source": [
    "data = np.ones([1, 30, 3])\n",
    "def load_models(files):\n",
    "    \n",
    "    \n",
    "    models = create_models(sequence_length=N_STEPS,\n",
    "                       possible_activities = POSSIBLE_ACTIVITIES, \n",
    "                       loss=LOSS,\n",
    "                       units=UNITS,\n",
    "                       cell=CELL,\n",
    "                       n_layers=N_LAYERS,\n",
    "                       dropout=DROPOUT, \n",
    "                       optimizer=OPTIMIZER, \n",
    "                       bidirectional=BIDIRECTIONAL)\n",
    "    \n",
    "    for activity, file in zip(POSSIBLE_ACTIVITIES, files):\n",
    "        model = models[activity]\n",
    "        model.predict(data)\n",
    "        model.load_weights(file)\n",
    "        models[activity] = model\n",
    "        \n",
    "        \n",
    "    return models\n",
    "    return models\n",
    "def convert_models(models,position):\n",
    "    for activity in POSSIBLE_ACTIVITIES:\n",
    "        converter = tf.lite.TFLiteConverter.from_keras_model(models[activity])\n",
    "        tflite_model = converter.convert()\n",
    "        open('converted_models/'+position+'_'+activity+\".tflite\", \"wb\").write(tflite_model)\n",
    "        "
   ]
  },
  {
   "cell_type": "code",
   "execution_count": 26,
   "metadata": {},
   "outputs": [
    {
     "data": {
      "text/plain": [
       "['models/2020-11-23_Wrist_Right_Desk work_binary_crossentropy_adam_seq-30_layers-2_units-64.h5',\n",
       " 'models/2020-11-23_Wrist_Right_Standing_binary_crossentropy_adam_seq-30_layers-2_units-64.h5',\n",
       " 'models/2020-11-23_Wrist_Right_Descending stairs_binary_crossentropy_adam_seq-30_layers-2_units-64.h5',\n",
       " 'models/2020-11-23_Wrist_Right_Lying down on stomach_binary_crossentropy_adam_seq-30_layers-2_units-64.h5',\n",
       " 'models/2020-11-23_Wrist_Right_Movement_binary_crossentropy_adam_seq-30_layers-2_units-64.h5',\n",
       " 'models/2020-11-23_Wrist_Right_Lying down left_binary_crossentropy_adam_seq-30_layers-2_units-64.h5',\n",
       " 'models/2020-11-23_Wrist_Right_Lying down on back_binary_crossentropy_adam_seq-30_layers-2_units-64.h5',\n",
       " 'models/2020-11-23_Wrist_Right_Running_binary_crossentropy_adam_seq-30_layers-2_units-64.h5',\n",
       " 'models/2020-11-23_Wrist_Right_Sitting bent backward_binary_crossentropy_adam_seq-30_layers-2_units-64.h5',\n",
       " 'models/2020-11-23_Wrist_Right_Lying down right_binary_crossentropy_adam_seq-30_layers-2_units-64.h5',\n",
       " 'models/2020-11-23_Wrist_Right_Climbing stairs_binary_crossentropy_adam_seq-30_layers-2_units-64.h5',\n",
       " 'models/2020-11-23_Wrist_Right_Walking at normal speed_binary_crossentropy_adam_seq-30_layers-2_units-64.h5',\n",
       " 'models/2020-11-23_Wrist_Right_Sitting bent forward_binary_crossentropy_adam_seq-30_layers-2_units-64.h5',\n",
       " 'models/2020-11-23_Wrist_Right_Sitting_binary_crossentropy_adam_seq-30_layers-2_units-64.h5']"
      ]
     },
     "execution_count": 26,
     "metadata": {},
     "output_type": "execute_result"
    }
   ],
   "source": [
    "files"
   ]
  },
  {
   "cell_type": "code",
   "execution_count": 27,
   "metadata": {},
   "outputs": [],
   "source": [
    "import tensorflow.keras.models as md\n",
    "\n",
    "target_folder ='./models'\n",
    "dir = Path(target_folder)\n",
    "files = [dir/f for f in listdir(target_folder) if isfile(join(target_folder, f)) and os.path.splitext(f)[1] == '.h5']\n",
    "files = [str(f) for f in files]\n",
    "models = load_models(files)\n",
    "convert_models(models,POSITION)"
   ]
  },
  {
   "cell_type": "code",
   "execution_count": 34,
   "metadata": {},
   "outputs": [
    {
     "data": {
      "text/plain": [
       "(1, 2)"
      ]
     },
     "execution_count": 34,
     "metadata": {},
     "output_type": "execute_result"
    }
   ],
   "source": [
    "models = create_models(sequence_length=N_STEPS,\n",
    "                       possible_activities = POSSIBLE_ACTIVITIES, \n",
    "                       loss=LOSS,\n",
    "                       units=UNITS,\n",
    "                       cell=CELL,\n",
    "                       n_layers=N_LAYERS,\n",
    "                       dropout=DROPOUT, \n",
    "                       optimizer=OPTIMIZER, \n",
    "                       bidirectional=BIDIRECTIONAL)\n",
    "data = np.ones([1, 30, 3])\n",
    "\n",
    "\n",
    "models['Climbing stairs'].predict(data).shape\n"
   ]
  }
 ],
 "metadata": {
  "kernelspec": {
   "display_name": "Python [conda env:PDIOT3] *",
   "language": "python",
   "name": "conda-env-PDIOT3-py"
  },
  "language_info": {
   "codemirror_mode": {
    "name": "ipython",
    "version": 3
   },
   "file_extension": ".py",
   "mimetype": "text/x-python",
   "name": "python",
   "nbconvert_exporter": "python",
   "pygments_lexer": "ipython3",
   "version": "3.7.7"
  }
 },
 "nbformat": 4,
 "nbformat_minor": 4
}
